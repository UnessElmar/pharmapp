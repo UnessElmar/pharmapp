{
 "cells": [
  {
   "cell_type": "code",
   "execution_count": 1,
   "id": "dd5fa304",
   "metadata": {},
   "outputs": [],
   "source": [
    "import pandas as pd"
   ]
  },
  {
   "cell_type": "code",
   "execution_count": 4,
   "id": "546f181e",
   "metadata": {},
   "outputs": [],
   "source": [
    "prod_df = pd.read_excel('./refs_medicaments.xlsx')\n",
    "prod_row = prod_df.loc[prod_df.CODE==6118001182459]"
   ]
  },
  {
   "cell_type": "code",
   "execution_count": 5,
   "id": "d8e874d9",
   "metadata": {},
   "outputs": [
    {
     "data": {
      "text/html": [
       "<div>\n",
       "<style scoped>\n",
       "    .dataframe tbody tr th:only-of-type {\n",
       "        vertical-align: middle;\n",
       "    }\n",
       "\n",
       "    .dataframe tbody tr th {\n",
       "        vertical-align: top;\n",
       "    }\n",
       "\n",
       "    .dataframe thead th {\n",
       "        text-align: right;\n",
       "    }\n",
       "</style>\n",
       "<table border=\"1\" class=\"dataframe\">\n",
       "  <thead>\n",
       "    <tr style=\"text-align: right;\">\n",
       "      <th></th>\n",
       "      <th>CODE</th>\n",
       "      <th>NOM</th>\n",
       "      <th>DCI1</th>\n",
       "      <th>DOSAGE1</th>\n",
       "      <th>UNITE_DOSAGE1</th>\n",
       "      <th>FORME</th>\n",
       "      <th>PRESENTATION</th>\n",
       "      <th>PPV</th>\n",
       "      <th>PH</th>\n",
       "      <th>PRIX_BR</th>\n",
       "      <th>PRINCEPS_GENERIQUE</th>\n",
       "      <th>TAUX_REMBOURSEMENT</th>\n",
       "    </tr>\n",
       "  </thead>\n",
       "  <tbody>\n",
       "    <tr>\n",
       "      <th>3</th>\n",
       "      <td>6118001182459</td>\n",
       "      <td>VIVALAN</td>\n",
       "      <td>VILOXAZINE</td>\n",
       "      <td>100</td>\n",
       "      <td>MG</td>\n",
       "      <td>COMPRIME PELLICULE</td>\n",
       "      <td>1 BOITE 20 COMPRIME</td>\n",
       "      <td>60.7</td>\n",
       "      <td>40.1</td>\n",
       "      <td>60.7</td>\n",
       "      <td>P</td>\n",
       "      <td>0%</td>\n",
       "    </tr>\n",
       "  </tbody>\n",
       "</table>\n",
       "</div>"
      ],
      "text/plain": [
       "            CODE      NOM        DCI1 DOSAGE1 UNITE_DOSAGE1  \\\n",
       "3  6118001182459  VIVALAN  VILOXAZINE     100            MG   \n",
       "\n",
       "                FORME         PRESENTATION   PPV    PH  PRIX_BR  \\\n",
       "3  COMPRIME PELLICULE  1 BOITE 20 COMPRIME  60.7  40.1     60.7   \n",
       "\n",
       "  PRINCEPS_GENERIQUE TAUX_REMBOURSEMENT  \n",
       "3                  P                 0%  "
      ]
     },
     "execution_count": 5,
     "metadata": {},
     "output_type": "execute_result"
    }
   ],
   "source": [
    "prod_row"
   ]
  },
  {
   "cell_type": "code",
   "execution_count": null,
   "id": "7f3e4af2",
   "metadata": {},
   "outputs": [],
   "source": []
  }
 ],
 "metadata": {
  "kernelspec": {
   "display_name": "Python 3 (ipykernel)",
   "language": "python",
   "name": "python3"
  },
  "language_info": {
   "codemirror_mode": {
    "name": "ipython",
    "version": 3
   },
   "file_extension": ".py",
   "mimetype": "text/x-python",
   "name": "python",
   "nbconvert_exporter": "python",
   "pygments_lexer": "ipython3",
   "version": "3.9.7"
  }
 },
 "nbformat": 4,
 "nbformat_minor": 5
}
